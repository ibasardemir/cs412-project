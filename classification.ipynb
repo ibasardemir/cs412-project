{
  "cells": [
    {
      "cell_type": "markdown",
      "metadata": {
        "id": "UBOlFYpnlr0N"
      },
      "source": [
        "# Import Dependencies"
      ]
    },
    {
      "cell_type": "code",
      "execution_count": 1,
      "metadata": {
        "id": "PM5EnXhLk6BL"
      },
      "outputs": [],
      "source": [
        "import numpy as np\n",
        "import pandas as pd\n",
        "import gzip\n",
        "import json\n",
        "\n",
        "from pprint import pprint"
      ]
    },
    {
      "cell_type": "code",
      "execution_count": 2,
      "metadata": {
        "colab": {
          "base_uri": "https://localhost:8080/"
        },
        "id": "vgAdz_b8xp8w",
        "outputId": "1fe234e1-5d64-4cce-9860-127de346b21c"
      },
      "outputs": [
        {
          "name": "stderr",
          "output_type": "stream",
          "text": [
            "[nltk_data] Downloading package stopwords to\n",
            "[nltk_data]     /Users/ahmetcoskun/nltk_data...\n",
            "[nltk_data]   Package stopwords is already up-to-date!\n"
          ]
        }
      ],
      "source": [
        "#@title Turkish StopWords\n",
        "\n",
        "import nltk\n",
        "from nltk.corpus import stopwords\n",
        "\n",
        "nltk.download('stopwords')\n",
        "turkish_stopwords = stopwords.words('turkish')"
      ]
    },
    {
      "cell_type": "markdown",
      "metadata": {
        "id": "plt9-VkNmlmH"
      },
      "source": [
        "# Influencer Category Classification\n",
        "\n",
        "\n",
        "\n",
        "1.   Read Data\n",
        "2.   Preprocess Data\n",
        "3.   Prepare Model\n",
        "4.   Predict Test Data\n",
        "4.   Save outputs\n",
        "\n"
      ]
    },
    {
      "cell_type": "code",
      "execution_count": 3,
      "metadata": {
        "id": "8DeBh-b7lrEs"
      },
      "outputs": [],
      "source": [
        "train_classification_df = pd.read_csv(\"/Users/ahmetcoskun/Desktop/train-classification.csv\",)\n",
        "train_classification_df = train_classification_df.rename(columns={'Unnamed: 0': 'user_id', 'label': 'category'})\n",
        "\n",
        "# Unifying labels\n",
        "train_classification_df[\"category\"] = train_classification_df[\"category\"].apply(str.lower)\n",
        "username2_category = train_classification_df.set_index(\"user_id\").to_dict()[\"category\"]"
      ]
    },
    {
      "cell_type": "code",
      "execution_count": 4,
      "metadata": {
        "colab": {
          "base_uri": "https://localhost:8080/",
          "height": 500
        },
        "id": "SfD7BQ3hE5Jh",
        "outputId": "c961af3c-ce56-4a52-91df-2744e697a754"
      },
      "outputs": [
        {
          "data": {
            "text/html": [
              "<div>\n",
              "<style scoped>\n",
              "    .dataframe tbody tr th:only-of-type {\n",
              "        vertical-align: middle;\n",
              "    }\n",
              "\n",
              "    .dataframe tbody tr th {\n",
              "        vertical-align: top;\n",
              "    }\n",
              "\n",
              "    .dataframe thead th {\n",
              "        text-align: right;\n",
              "    }\n",
              "</style>\n",
              "<table border=\"1\" class=\"dataframe\">\n",
              "  <thead>\n",
              "    <tr style=\"text-align: right;\">\n",
              "      <th></th>\n",
              "      <th>user_id</th>\n",
              "    </tr>\n",
              "    <tr>\n",
              "      <th>category</th>\n",
              "      <th></th>\n",
              "    </tr>\n",
              "  </thead>\n",
              "  <tbody>\n",
              "    <tr>\n",
              "      <th>art</th>\n",
              "      <td>191</td>\n",
              "    </tr>\n",
              "    <tr>\n",
              "      <th>entertainment</th>\n",
              "      <td>323</td>\n",
              "    </tr>\n",
              "    <tr>\n",
              "      <th>fashion</th>\n",
              "      <td>299</td>\n",
              "    </tr>\n",
              "    <tr>\n",
              "      <th>food</th>\n",
              "      <td>511</td>\n",
              "    </tr>\n",
              "    <tr>\n",
              "      <th>gaming</th>\n",
              "      <td>13</td>\n",
              "    </tr>\n",
              "    <tr>\n",
              "      <th>health and lifestyle</th>\n",
              "      <td>503</td>\n",
              "    </tr>\n",
              "    <tr>\n",
              "      <th>mom and children</th>\n",
              "      <td>149</td>\n",
              "    </tr>\n",
              "    <tr>\n",
              "      <th>sports</th>\n",
              "      <td>113</td>\n",
              "    </tr>\n",
              "    <tr>\n",
              "      <th>tech</th>\n",
              "      <td>346</td>\n",
              "    </tr>\n",
              "    <tr>\n",
              "      <th>travel</th>\n",
              "      <td>294</td>\n",
              "    </tr>\n",
              "  </tbody>\n",
              "</table>\n",
              "</div>"
            ],
            "text/plain": [
              "                      user_id\n",
              "category                     \n",
              "art                       191\n",
              "entertainment             323\n",
              "fashion                   299\n",
              "food                      511\n",
              "gaming                     13\n",
              "health and lifestyle      503\n",
              "mom and children          149\n",
              "sports                    113\n",
              "tech                      346\n",
              "travel                    294"
            ]
          },
          "execution_count": 4,
          "metadata": {},
          "output_type": "execute_result"
        }
      ],
      "source": [
        "# stats about the labels\n",
        "train_classification_df.groupby(\"category\").count()"
      ]
    },
    {
      "cell_type": "code",
      "execution_count": 5,
      "metadata": {
        "colab": {
          "base_uri": "https://localhost:8080/",
          "height": 42
        },
        "id": "mhckiEfD2gg_",
        "outputId": "53e34082-5e9b-4401-9a7e-af83c8d63015"
      },
      "outputs": [
        {
          "data": {
            "text/plain": [
              "'tech'"
            ]
          },
          "execution_count": 5,
          "metadata": {},
          "output_type": "execute_result"
        }
      ],
      "source": [
        "username2_category[\"kod8net\"]"
      ]
    },
    {
      "cell_type": "code",
      "execution_count": 6,
      "metadata": {
        "id": "GT_IcUM2nGBH"
      },
      "outputs": [],
      "source": [
        "train_data_path = \"/Users/ahmetcoskun/Desktop/training-dataset.jsonl\"\n",
        "\n",
        "username2posts_train = dict()\n",
        "username2profile_train = dict()\n",
        "\n",
        "username2posts_test = dict()\n",
        "username2profile_test = dict()\n",
        "\n",
        "\n",
        "with open(train_data_path, \"rt\") as fh:\n",
        "  for line in fh:\n",
        "    sample = json.loads(line)\n",
        "\n",
        "    profile = sample[\"profile\"]\n",
        "    username = profile[\"username\"]\n",
        "    if username in username2_category:\n",
        "      # train data info\n",
        "      username2posts_train[username] = sample[\"posts\"]\n",
        "      username2profile_train[username] = profile\n",
        "\n",
        "\n",
        "    else:\n",
        "      # it is test data info\n",
        "      username2posts_test[username] = sample[\"posts\"]\n",
        "      username2profile_test[username] = profile\n"
      ]
    },
    {
      "cell_type": "code",
      "execution_count": 7,
      "metadata": {
        "colab": {
          "base_uri": "https://localhost:8080/",
          "height": 326
        },
        "id": "djeF1GQ1oy3v",
        "outputId": "ba2eb728-0cde-411f-bd18-8109b4d2c6c4"
      },
      "outputs": [
        {
          "data": {
            "text/html": [
              "<div>\n",
              "<style scoped>\n",
              "    .dataframe tbody tr th:only-of-type {\n",
              "        vertical-align: middle;\n",
              "    }\n",
              "\n",
              "    .dataframe tbody tr th {\n",
              "        vertical-align: top;\n",
              "    }\n",
              "\n",
              "    .dataframe thead th {\n",
              "        text-align: right;\n",
              "    }\n",
              "</style>\n",
              "<table border=\"1\" class=\"dataframe\">\n",
              "  <thead>\n",
              "    <tr style=\"text-align: right;\">\n",
              "      <th></th>\n",
              "      <th>username</th>\n",
              "      <th>id</th>\n",
              "      <th>full_name</th>\n",
              "      <th>biography</th>\n",
              "      <th>category_name</th>\n",
              "      <th>post_count</th>\n",
              "      <th>follower_count</th>\n",
              "      <th>following_count</th>\n",
              "      <th>is_business_account</th>\n",
              "      <th>is_private</th>\n",
              "      <th>...</th>\n",
              "      <th>business_category_name</th>\n",
              "      <th>overall_category_name</th>\n",
              "      <th>category_enum</th>\n",
              "      <th>is_verified_by_mv4b</th>\n",
              "      <th>is_regulated_c18</th>\n",
              "      <th>profile_pic_url</th>\n",
              "      <th>should_show_category</th>\n",
              "      <th>should_show_public_contacts</th>\n",
              "      <th>show_account_transparency_details</th>\n",
              "      <th>profile_picture_base64</th>\n",
              "    </tr>\n",
              "  </thead>\n",
              "  <tbody>\n",
              "    <tr>\n",
              "      <th>0</th>\n",
              "      <td>deparmedya</td>\n",
              "      <td>3170700063</td>\n",
              "      <td>Depar Medya</td>\n",
              "      <td>#mediaplanning #mediabuying #sosyalmedya</td>\n",
              "      <td>Local business</td>\n",
              "      <td>None</td>\n",
              "      <td>1167</td>\n",
              "      <td>192</td>\n",
              "      <td>True</td>\n",
              "      <td>False</td>\n",
              "      <td>...</td>\n",
              "      <td>None</td>\n",
              "      <td>None</td>\n",
              "      <td>LOCAL</td>\n",
              "      <td>False</td>\n",
              "      <td>False</td>\n",
              "      <td>https://instagram.fsaw2-3.fna.fbcdn.net/v/t51....</td>\n",
              "      <td>True</td>\n",
              "      <td>True</td>\n",
              "      <td>True</td>\n",
              "      <td>/9j/4AAQSkZJRgABAQAAAQABAAD/2wBDAAgGBgcGBQgHBw...</td>\n",
              "    </tr>\n",
              "    <tr>\n",
              "      <th>1</th>\n",
              "      <td>kafesfirin</td>\n",
              "      <td>266439571</td>\n",
              "      <td>KAFES FIRIN</td>\n",
              "      <td>📍Söğütözü📍FTZ AVM\\n🛒Ankara macro▲center v...</td>\n",
              "      <td>Brand</td>\n",
              "      <td>None</td>\n",
              "      <td>11997</td>\n",
              "      <td>17</td>\n",
              "      <td>True</td>\n",
              "      <td>False</td>\n",
              "      <td>...</td>\n",
              "      <td>None</td>\n",
              "      <td>None</td>\n",
              "      <td>BRAND</td>\n",
              "      <td>False</td>\n",
              "      <td>False</td>\n",
              "      <td>https://instagram.fada1-13.fna.fbcdn.net/v/t51...</td>\n",
              "      <td>True</td>\n",
              "      <td>True</td>\n",
              "      <td>True</td>\n",
              "      <td>/9j/4AAQSkZJRgABAQAAAQABAAD/2wBDAAgGBgcGBQgHBw...</td>\n",
              "    </tr>\n",
              "  </tbody>\n",
              "</table>\n",
              "<p>2 rows × 44 columns</p>\n",
              "</div>"
            ],
            "text/plain": [
              "     username          id    full_name  \\\n",
              "0  deparmedya  3170700063  Depar Medya   \n",
              "1  kafesfirin   266439571  KAFES FIRIN   \n",
              "\n",
              "                                           biography   category_name  \\\n",
              "0           #mediaplanning #mediabuying #sosyalmedya  Local business   \n",
              "1  📍Söğütözü📍FTZ AVM\\n🛒Ankara macro▲center v...           Brand   \n",
              "\n",
              "  post_count follower_count following_count is_business_account is_private  \\\n",
              "0       None           1167             192                True      False   \n",
              "1       None          11997              17                True      False   \n",
              "\n",
              "   ... business_category_name overall_category_name category_enum  \\\n",
              "0  ...                   None                  None         LOCAL   \n",
              "1  ...                   None                  None         BRAND   \n",
              "\n",
              "  is_verified_by_mv4b is_regulated_c18  \\\n",
              "0               False            False   \n",
              "1               False            False   \n",
              "\n",
              "                                     profile_pic_url should_show_category  \\\n",
              "0  https://instagram.fsaw2-3.fna.fbcdn.net/v/t51....                 True   \n",
              "1  https://instagram.fada1-13.fna.fbcdn.net/v/t51...                 True   \n",
              "\n",
              "  should_show_public_contacts show_account_transparency_details  \\\n",
              "0                        True                              True   \n",
              "1                        True                              True   \n",
              "\n",
              "                              profile_picture_base64  \n",
              "0  /9j/4AAQSkZJRgABAQAAAQABAAD/2wBDAAgGBgcGBQgHBw...  \n",
              "1  /9j/4AAQSkZJRgABAQAAAQABAAD/2wBDAAgGBgcGBQgHBw...  \n",
              "\n",
              "[2 rows x 44 columns]"
            ]
          },
          "execution_count": 7,
          "metadata": {},
          "output_type": "execute_result"
        }
      ],
      "source": [
        "# Profile Dataframe\n",
        "train_profile_df = pd.DataFrame(username2profile_train).T.reset_index(drop=True)\n",
        "test_profile_df = pd.DataFrame(username2profile_test).T.reset_index(drop=True)\n",
        "\n",
        "train_profile_df.head(2)"
      ]
    },
    {
      "cell_type": "code",
      "execution_count": 8,
      "metadata": {
        "colab": {
          "base_uri": "https://localhost:8080/",
          "height": 370
        },
        "id": "15tvVohUBHK9",
        "outputId": "2c44ecce-8f5d-4391-f652-49c5cd1527cd"
      },
      "outputs": [
        {
          "data": {
            "text/html": [
              "<div>\n",
              "<style scoped>\n",
              "    .dataframe tbody tr th:only-of-type {\n",
              "        vertical-align: middle;\n",
              "    }\n",
              "\n",
              "    .dataframe tbody tr th {\n",
              "        vertical-align: top;\n",
              "    }\n",
              "\n",
              "    .dataframe thead th {\n",
              "        text-align: right;\n",
              "    }\n",
              "</style>\n",
              "<table border=\"1\" class=\"dataframe\">\n",
              "  <thead>\n",
              "    <tr style=\"text-align: right;\">\n",
              "      <th></th>\n",
              "      <th>username</th>\n",
              "      <th>id</th>\n",
              "      <th>full_name</th>\n",
              "      <th>biography</th>\n",
              "      <th>category_name</th>\n",
              "      <th>post_count</th>\n",
              "      <th>follower_count</th>\n",
              "      <th>following_count</th>\n",
              "      <th>is_business_account</th>\n",
              "      <th>is_private</th>\n",
              "      <th>...</th>\n",
              "      <th>business_category_name</th>\n",
              "      <th>overall_category_name</th>\n",
              "      <th>category_enum</th>\n",
              "      <th>is_verified_by_mv4b</th>\n",
              "      <th>is_regulated_c18</th>\n",
              "      <th>profile_pic_url</th>\n",
              "      <th>should_show_category</th>\n",
              "      <th>should_show_public_contacts</th>\n",
              "      <th>show_account_transparency_details</th>\n",
              "      <th>profile_picture_base64</th>\n",
              "    </tr>\n",
              "  </thead>\n",
              "  <tbody>\n",
              "    <tr>\n",
              "      <th>0</th>\n",
              "      <td>beyazyakaliyiz</td>\n",
              "      <td>8634457436</td>\n",
              "      <td>Selam Beyaz Yakalı</td>\n",
              "      <td>Beyaz yakalıların dünyasına hoşgeldiniz 😀😀😀</td>\n",
              "      <td>Personal blog</td>\n",
              "      <td>None</td>\n",
              "      <td>1265</td>\n",
              "      <td>665</td>\n",
              "      <td>True</td>\n",
              "      <td>False</td>\n",
              "      <td>...</td>\n",
              "      <td>None</td>\n",
              "      <td>None</td>\n",
              "      <td>PERSONAL_BLOG</td>\n",
              "      <td>False</td>\n",
              "      <td>False</td>\n",
              "      <td>https://instagram.fist6-1.fna.fbcdn.net/v/t51....</td>\n",
              "      <td>True</td>\n",
              "      <td>True</td>\n",
              "      <td>True</td>\n",
              "      <td>/9j/4AAQSkZJRgABAQAAAQABAAD/2wBDAAgGBgcGBQgHBw...</td>\n",
              "    </tr>\n",
              "    <tr>\n",
              "      <th>1</th>\n",
              "      <td>totalenergies_istasyonlari</td>\n",
              "      <td>7066643793</td>\n",
              "      <td>TotalEnergies İstasyonları</td>\n",
              "      <td>TotalEnergies İstasyonları resmi Instagram hes...</td>\n",
              "      <td>Energy Company</td>\n",
              "      <td>None</td>\n",
              "      <td>28025</td>\n",
              "      <td>4</td>\n",
              "      <td>True</td>\n",
              "      <td>False</td>\n",
              "      <td>...</td>\n",
              "      <td>None</td>\n",
              "      <td>None</td>\n",
              "      <td>ENERGY_COMPANY</td>\n",
              "      <td>False</td>\n",
              "      <td>False</td>\n",
              "      <td>https://instagram.fsaw2-1.fna.fbcdn.net/v/t51....</td>\n",
              "      <td>True</td>\n",
              "      <td>True</td>\n",
              "      <td>True</td>\n",
              "      <td>/9j/4AAQSkZJRgABAQAAAQABAAD/2wBDAAgGBgcGBQgHBw...</td>\n",
              "    </tr>\n",
              "  </tbody>\n",
              "</table>\n",
              "<p>2 rows × 44 columns</p>\n",
              "</div>"
            ],
            "text/plain": [
              "                     username          id                    full_name  \\\n",
              "0              beyazyakaliyiz  8634457436           Selam Beyaz Yakalı   \n",
              "1  totalenergies_istasyonlari  7066643793  TotalEnergies İstasyonları   \n",
              "\n",
              "                                           biography   category_name  \\\n",
              "0        Beyaz yakalıların dünyasına hoşgeldiniz 😀😀😀   Personal blog   \n",
              "1  TotalEnergies İstasyonları resmi Instagram hes...  Energy Company   \n",
              "\n",
              "  post_count follower_count following_count is_business_account is_private  \\\n",
              "0       None           1265             665                True      False   \n",
              "1       None          28025               4                True      False   \n",
              "\n",
              "   ... business_category_name overall_category_name   category_enum  \\\n",
              "0  ...                   None                  None   PERSONAL_BLOG   \n",
              "1  ...                   None                  None  ENERGY_COMPANY   \n",
              "\n",
              "  is_verified_by_mv4b is_regulated_c18  \\\n",
              "0               False            False   \n",
              "1               False            False   \n",
              "\n",
              "                                     profile_pic_url should_show_category  \\\n",
              "0  https://instagram.fist6-1.fna.fbcdn.net/v/t51....                 True   \n",
              "1  https://instagram.fsaw2-1.fna.fbcdn.net/v/t51....                 True   \n",
              "\n",
              "  should_show_public_contacts show_account_transparency_details  \\\n",
              "0                        True                              True   \n",
              "1                        True                              True   \n",
              "\n",
              "                              profile_picture_base64  \n",
              "0  /9j/4AAQSkZJRgABAQAAAQABAAD/2wBDAAgGBgcGBQgHBw...  \n",
              "1  /9j/4AAQSkZJRgABAQAAAQABAAD/2wBDAAgGBgcGBQgHBw...  \n",
              "\n",
              "[2 rows x 44 columns]"
            ]
          },
          "execution_count": 8,
          "metadata": {},
          "output_type": "execute_result"
        }
      ],
      "source": [
        "test_profile_df.head(2)"
      ]
    },
    {
      "cell_type": "code",
      "execution_count": 9,
      "metadata": {
        "id": "Z5UY0eYLsoTr"
      },
      "outputs": [],
      "source": [
        "from sklearn.feature_extraction.text import TfidfVectorizer\n",
        "import re\n",
        "\n",
        "def preprocess_text(text: str):\n",
        "    # lower casing Turkish Text, Don't use str.lower :)\n",
        "    text = text.casefold()\n",
        "\n",
        "    # Remove URLs\n",
        "    text = re.sub(r'http\\S+|www\\S+|https\\S+', '', text, flags=re.MULTILINE)\n",
        "\n",
        "    # Remove special characters and punctuation\n",
        "    # HERE THE EMOJIS stuff are being removed, you may want to keep them :D\n",
        "    text = re.sub(r'[^a-zçğıöşü0-9\\s#@]', '', text)\n",
        "\n",
        "    # Remove numbers\n",
        "    text = re.sub(r'\\d+', '', text)\n",
        "\n",
        "    # Remove extra whitespaces\n",
        "    text = re.sub(r'\\s+', ' ', text).strip()\n",
        "\n",
        "    return text\n",
        "\n",
        "\n",
        "corpus = []\n",
        "\n",
        "# to keep the label order\n",
        "train_usernames = []\n",
        "\n",
        "for username, posts in username2posts_train.items():\n",
        "  train_usernames.append(username)\n",
        "\n",
        "  # aggregating the posts per user\n",
        "  cleaned_captions = []\n",
        "  for post in posts:\n",
        "    post_caption = post.get(\"caption\", \"\")\n",
        "    if post_caption is None:\n",
        "      continue\n",
        "\n",
        "    post_caption = preprocess_text(post_caption)\n",
        "\n",
        "    if post_caption != \"\":\n",
        "      cleaned_captions.append(post_caption)\n",
        "\n",
        "\n",
        "  ## Adding category_name to the strings used as features\n",
        "  cname = username2profile_train[username][\"category_name\"]\n",
        "\n",
        "  if cname is not None:\n",
        "    cname = preprocess_text(cname)\n",
        "    cleaned_captions.append(cname)\n",
        "\n",
        "  ##\n",
        "\n",
        "\n",
        "  # joining the posts of each user with a \\n\n",
        "  user_post_captions = \"\\n\".join(cleaned_captions)\n",
        "  corpus.append(user_post_captions)\n",
        "\n",
        "\n",
        "vectorizer = TfidfVectorizer(stop_words=turkish_stopwords, max_features=5000)\n",
        "\n",
        "# fit the vectorizer\n",
        "vectorizer.fit(corpus)\n",
        "\n",
        "\n",
        "# transform the data into vectors\n",
        "x_post_train = vectorizer.transform(corpus)\n",
        "y_train = [username2_category.get(uname, \"NA\") for uname in train_usernames]\n",
        "\n",
        "\n",
        "test_usernames = []\n",
        "test_corpus = []\n",
        "for username, posts in username2posts_test.items():\n",
        "  test_usernames.append(username)\n",
        "  # aggregating the posts per user\n",
        "  cleaned_captions = []\n",
        "  for post in posts:\n",
        "    post_caption = post.get(\"caption\", \"\")\n",
        "    if post_caption is None:\n",
        "      continue\n",
        "\n",
        "    post_caption = preprocess_text(post_caption)\n",
        "\n",
        "    if post_caption != \"\":\n",
        "      cleaned_captions.append(post_caption)\n",
        "\n",
        "\n",
        "  ## Adding category_name to the strings used as features\n",
        "  cname = username2profile_test[username][\"category_name\"]\n",
        "\n",
        "  if cname is not None:\n",
        "    cname = preprocess_text(cname)\n",
        "    cleaned_captions.append(cname)\n",
        "\n",
        "  ##\n",
        "\n",
        "  user_post_captions = \"\\n\".join(cleaned_captions)\n",
        "  test_corpus.append(user_post_captions)\n",
        "\n",
        "\n",
        "# Just transforming! No Fitting!!!!!\n",
        "x_post_test = vectorizer.transform(test_corpus)"
      ]
    },
    {
      "cell_type": "code",
      "execution_count": 10,
      "metadata": {
        "id": "Q-BcPjw_39aP"
      },
      "outputs": [],
      "source": [
        "# Making sure everything is fine\n",
        "assert y_train.count(\"NA\") == 0"
      ]
    },
    {
      "cell_type": "code",
      "execution_count": 11,
      "metadata": {
        "colab": {
          "base_uri": "https://localhost:8080/"
        },
        "id": "XP9ZrOIAvi9z",
        "outputId": "73007f66-8dd0-4146-b97b-f9432f086423"
      },
      "outputs": [
        {
          "data": {
            "text/plain": [
              "array(['abdullah', 'abone', 'about', ..., 'şık', 'şıklık', 'şıklığı'],\n",
              "      dtype=object)"
            ]
          },
          "execution_count": 11,
          "metadata": {},
          "output_type": "execute_result"
        }
      ],
      "source": [
        "feature_names = vectorizer.get_feature_names_out()\n",
        "feature_names"
      ]
    },
    {
      "cell_type": "code",
      "execution_count": 12,
      "metadata": {
        "colab": {
          "base_uri": "https://localhost:8080/",
          "height": 174
        },
        "id": "xa4v453o0Mo_",
        "outputId": "3b051399-edf2-411d-d7d6-234178b6118f"
      },
      "outputs": [
        {
          "data": {
            "text/html": [
              "<div>\n",
              "<style scoped>\n",
              "    .dataframe tbody tr th:only-of-type {\n",
              "        vertical-align: middle;\n",
              "    }\n",
              "\n",
              "    .dataframe tbody tr th {\n",
              "        vertical-align: top;\n",
              "    }\n",
              "\n",
              "    .dataframe thead th {\n",
              "        text-align: right;\n",
              "    }\n",
              "</style>\n",
              "<table border=\"1\" class=\"dataframe\">\n",
              "  <thead>\n",
              "    <tr style=\"text-align: right;\">\n",
              "      <th></th>\n",
              "      <th>abdullah</th>\n",
              "      <th>abone</th>\n",
              "      <th>about</th>\n",
              "      <th>accompanied</th>\n",
              "      <th>acele</th>\n",
              "      <th>acil</th>\n",
              "      <th>activities</th>\n",
              "      <th>acı</th>\n",
              "      <th>ad</th>\n",
              "      <th>ada</th>\n",
              "      <th>...</th>\n",
              "      <th>şubemiz</th>\n",
              "      <th>şubesi</th>\n",
              "      <th>şölen</th>\n",
              "      <th>şöleni</th>\n",
              "      <th>şöyle</th>\n",
              "      <th>şükranla</th>\n",
              "      <th>şükür</th>\n",
              "      <th>şık</th>\n",
              "      <th>şıklık</th>\n",
              "      <th>şıklığı</th>\n",
              "    </tr>\n",
              "  </thead>\n",
              "  <tbody>\n",
              "    <tr>\n",
              "      <th>0</th>\n",
              "      <td>0.0</td>\n",
              "      <td>0.0</td>\n",
              "      <td>0.0</td>\n",
              "      <td>0.0</td>\n",
              "      <td>0.0</td>\n",
              "      <td>0.0</td>\n",
              "      <td>0.0</td>\n",
              "      <td>0.0</td>\n",
              "      <td>0.0</td>\n",
              "      <td>0.0</td>\n",
              "      <td>...</td>\n",
              "      <td>0.0</td>\n",
              "      <td>0.0</td>\n",
              "      <td>0.0</td>\n",
              "      <td>0.0</td>\n",
              "      <td>0.0</td>\n",
              "      <td>0.0</td>\n",
              "      <td>0.0</td>\n",
              "      <td>0.050424</td>\n",
              "      <td>0.0</td>\n",
              "      <td>0.0</td>\n",
              "    </tr>\n",
              "    <tr>\n",
              "      <th>1</th>\n",
              "      <td>0.0</td>\n",
              "      <td>0.0</td>\n",
              "      <td>0.0</td>\n",
              "      <td>0.0</td>\n",
              "      <td>0.0</td>\n",
              "      <td>0.0</td>\n",
              "      <td>0.0</td>\n",
              "      <td>0.0</td>\n",
              "      <td>0.0</td>\n",
              "      <td>0.0</td>\n",
              "      <td>...</td>\n",
              "      <td>0.0</td>\n",
              "      <td>0.0</td>\n",
              "      <td>0.0</td>\n",
              "      <td>0.0</td>\n",
              "      <td>0.0</td>\n",
              "      <td>0.0</td>\n",
              "      <td>0.0</td>\n",
              "      <td>0.000000</td>\n",
              "      <td>0.0</td>\n",
              "      <td>0.0</td>\n",
              "    </tr>\n",
              "  </tbody>\n",
              "</table>\n",
              "<p>2 rows × 5000 columns</p>\n",
              "</div>"
            ],
            "text/plain": [
              "   abdullah  abone  about  accompanied  acele  acil  activities  acı   ad  \\\n",
              "0       0.0    0.0    0.0          0.0    0.0   0.0         0.0  0.0  0.0   \n",
              "1       0.0    0.0    0.0          0.0    0.0   0.0         0.0  0.0  0.0   \n",
              "\n",
              "   ada  ...  şubemiz  şubesi  şölen  şöleni  şöyle  şükranla  şükür       şık  \\\n",
              "0  0.0  ...      0.0     0.0    0.0     0.0    0.0       0.0    0.0  0.050424   \n",
              "1  0.0  ...      0.0     0.0    0.0     0.0    0.0       0.0    0.0  0.000000   \n",
              "\n",
              "   şıklık  şıklığı  \n",
              "0     0.0      0.0  \n",
              "1     0.0      0.0  \n",
              "\n",
              "[2 rows x 5000 columns]"
            ]
          },
          "execution_count": 12,
          "metadata": {},
          "output_type": "execute_result"
        }
      ],
      "source": [
        "df_tfidf = pd.DataFrame(x_post_train.toarray(), columns=feature_names)\n",
        "df_tfidf.head(2)"
      ]
    },
    {
      "cell_type": "code",
      "execution_count": 13,
      "metadata": {
        "colab": {
          "base_uri": "https://localhost:8080/"
        },
        "id": "1i9xO_ZX1NXC",
        "outputId": "fc38ac38-cc44-488b-f4c1-fd2ce10ff221"
      },
      "outputs": [
        {
          "data": {
            "text/plain": [
              "(2741, 5000)"
            ]
          },
          "execution_count": 13,
          "metadata": {},
          "output_type": "execute_result"
        }
      ],
      "source": [
        "df_tfidf.shape"
      ]
    },
    {
      "cell_type": "code",
      "execution_count": 14,
      "metadata": {
        "id": "ehUT3JSFz7yo"
      },
      "outputs": [],
      "source": [
        "from sklearn.model_selection import train_test_split\n",
        "\n",
        "x_train, x_val, y_train, y_val = train_test_split(df_tfidf, y_train, test_size=0.2, stratify=y_train)"
      ]
    },
    {
      "cell_type": "code",
      "execution_count": 15,
      "metadata": {
        "colab": {
          "base_uri": "https://localhost:8080/"
        },
        "id": "ipJX5GBZ1efb",
        "outputId": "a2fa022a-dd9c-4c9e-bdc0-f2f06624b156"
      },
      "outputs": [
        {
          "data": {
            "text/plain": [
              "(2192, 5000)"
            ]
          },
          "execution_count": 15,
          "metadata": {},
          "output_type": "execute_result"
        }
      ],
      "source": [
        "x_train.shape"
      ]
    },
    {
      "cell_type": "code",
      "execution_count": 16,
      "metadata": {
        "colab": {
          "base_uri": "https://localhost:8080/"
        },
        "id": "VcjAvDsR-RyU",
        "outputId": "c380e5d5-cac6-460e-c847-10b99a1d3645"
      },
      "outputs": [
        {
          "data": {
            "text/plain": [
              "(549, 5000)"
            ]
          },
          "execution_count": 16,
          "metadata": {},
          "output_type": "execute_result"
        }
      ],
      "source": [
        "x_val.shape"
      ]
    },
    {
      "cell_type": "markdown",
      "metadata": {
        "id": "1bNTrhi4EK7z"
      },
      "source": [
        "Model Training"
      ]
    },
    {
      "cell_type": "code",
      "execution_count": 17,
      "metadata": {
        "colab": {
          "base_uri": "https://localhost:8080/"
        },
        "id": "MFe2KxGIEOXT",
        "outputId": "bf7e90e3-018c-4616-80a4-1062dfad373c"
      },
      "outputs": [
        {
          "name": "stdout",
          "output_type": "stream",
          "text": [
            "Accuracy: 0.6740\n",
            "Classification Report:\n",
            "                      precision    recall  f1-score   support\n",
            "\n",
            "                 art       0.38      0.16      0.22        38\n",
            "       entertainment       0.52      0.52      0.52        65\n",
            "             fashion       0.66      0.68      0.67        60\n",
            "                food       0.86      0.87      0.86       102\n",
            "              gaming       1.00      0.33      0.50         3\n",
            "health and lifestyle       0.61      0.78      0.69       100\n",
            "    mom and children       0.70      0.47      0.56        30\n",
            "              sports       0.79      0.48      0.59        23\n",
            "                tech       0.69      0.81      0.75        69\n",
            "              travel       0.68      0.68      0.68        59\n",
            "\n",
            "            accuracy                           0.67       549\n",
            "           macro avg       0.69      0.58      0.60       549\n",
            "        weighted avg       0.67      0.67      0.66       549\n",
            "\n"
          ]
        }
      ],
      "source": [
        "from sklearn.ensemble import VotingClassifier\n",
        "from sklearn.ensemble import RandomForestClassifier, GradientBoostingClassifier\n",
        "from sklearn.svm import SVC\n",
        "from sklearn.naive_bayes import MultinomialNB\n",
        "from sklearn.linear_model import LogisticRegression, Perceptron\n",
        "from sklearn.neighbors import KNeighborsClassifier\n",
        "from sklearn.metrics import accuracy_score, classification_report\n",
        "\n",
        "# Initialize individual models\n",
        "random_forest = RandomForestClassifier(random_state=42)\n",
        "svm = SVC(probability=True, random_state=42)\n",
        "naive_bayes = MultinomialNB()\n",
        "gradient_boosting = GradientBoostingClassifier(random_state=42)\n",
        "\n",
        "\n",
        "\n",
        "# Create a VotingClassifier ensemble\n",
        "ensemble = VotingClassifier(\n",
        "    estimators=[\n",
        "        ('rf', random_forest),\n",
        "        ('svm', svm),\n",
        "        ('nb', naive_bayes),\n",
        "        ('gb', gradient_boosting)\n",
        "    ],\n",
        "    voting='soft'  # 'soft' for using predicted probabilities, 'hard' for majority voting\n",
        ")\n",
        "\n",
        "# Fit the ensemble on the training data\n",
        "ensemble.fit(x_train, y_train)\n",
        "\n",
        "# Predict on the validation set\n",
        "y_pred = ensemble.predict(x_val)\n",
        "\n",
        "# Evaluate the model\n",
        "accuracy = accuracy_score(y_val, y_pred)\n",
        "print(f\"Accuracy: {accuracy:.4f}\")\n",
        "print(\"Classification Report:\")\n",
        "print(classification_report(y_val, y_pred))\n"
      ]
    },
    {
      "cell_type": "code",
      "execution_count": 18,
      "metadata": {},
      "outputs": [
        {
          "data": {
            "image/png": "[encoded data removed]",
            "text/plain": [
              "<Figure size 640x480 with 2 Axes>"
            ]
          },
          "metadata": {},
          "output_type": "display_data"
        }
      ],
      "source": [
        "# Display the confusion matrix\n",
        "\n",
        "import matplotlib.pyplot as plt\n",
        "from sklearn import metrics\n",
        "listOfClasses = [\"Art\", \"Entertainment\", \"Fashion\", \"Food\", \"Gaming\", \"H&L\", \"M&C\", \"Sports\",\"Tech\",\"Travel\"]\n",
        "confusion_matrix = metrics.confusion_matrix(y_val, y_pred)\n",
        "cm_display = metrics.ConfusionMatrixDisplay(confusion_matrix = confusion_matrix, display_labels = listOfClasses)\n",
        "cm_display.plot()\n",
        "plt.xticks(rotation=90)\n",
        "plt.show()"
      ]
    }
  ],
  "metadata": {
    "colab": {
      "provenance": []
    },
    "kernelspec": {
      "display_name": "Python 3",
      "name": "python3"
    },
    "language_info": {
      "codemirror_mode": {
        "name": "ipython",
        "version": 3
      },
      "file_extension": ".py",
      "mimetype": "text/x-python",
      "name": "python",
      "nbconvert_exporter": "python",
      "pygments_lexer": "ipython3",
      "version": "3.9.6"
    }
  },
  "nbformat": 4,
  "nbformat_minor": 0
}
